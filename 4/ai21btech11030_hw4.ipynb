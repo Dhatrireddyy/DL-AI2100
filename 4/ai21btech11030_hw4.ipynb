{
  "nbformat": 4,
  "nbformat_minor": 0,
  "metadata": {
    "colab": {
      "provenance": []
    },
    "kernelspec": {
      "name": "python3",
      "display_name": "Python 3"
    },
    "language_info": {
      "name": "python"
    }
  },
  "cells": [
    {
      "cell_type": "code",
      "execution_count": 154,
      "metadata": {
        "id": "--EuEoZvT2Vr"
      },
      "outputs": [],
      "source": [
        "import numpy as np\n",
        "import matplotlib.pyplot as plt\n",
        "import matplotlib.image as mpimg\n",
        "from PIL import Image\n"
      ]
    },
    {
      "cell_type": "code",
      "source": [
        "class Activation:\n",
        "\n",
        "  def __init__(self, actv):\n",
        "    self.actv = actv\n",
        "\n",
        "  def activation_f(self, x, a = None):\n",
        "\n",
        "    if self.actv == 'sigmoid':\n",
        "       return 1 / (1 + np.exp(-x))\n",
        "\n",
        "    elif self.actv == 'tanh':\n",
        "       return np.tanh(x)\n",
        "\n",
        "    elif self.actv == 'ReLU':\n",
        "       return np.maximum(0, x)\n",
        "\n",
        "    elif self.actv == 'PReLU':\n",
        "      if a is not None:\n",
        "        return x if x >= 0 else a * x\n",
        "      else:\n",
        "        return np.maximum(x, 0)"
      ],
      "metadata": {
        "id": "DYLvY8JmVdGH"
      },
      "execution_count": 155,
      "outputs": []
    },
    {
      "cell_type": "code",
      "source": [
        "def padding_f(image, padding):\n",
        "\n",
        "  input_shape = image.shape\n",
        "\n",
        "  padded_shape = (\n",
        "        input_shape[0] + 2 * padding[0],\n",
        "        input_shape[1] + 2 * padding[1],\n",
        "        input_shape[2]\n",
        "    )\n",
        "\n",
        "  padded_input = np.zeros(padded_shape)\n",
        "\n",
        "  padded_input[\n",
        "      padding[0]:padding[0] + input_shape[0],\n",
        "      padding[1]:padding[1] + input_shape[1],\n",
        "      :\n",
        "  ] = image\n",
        "\n",
        "  return padded_input"
      ],
      "metadata": {
        "id": "hbUa5hmz8014"
      },
      "execution_count": 126,
      "outputs": []
    },
    {
      "cell_type": "code",
      "source": [
        "def convolution(image, kernel, act_f, stride=(1, 1), padding=(0, 0)):\n",
        "    W, H, C = image.shape\n",
        "    w, h, _ = kernel.shape\n",
        "\n",
        "    s = stride\n",
        "    p = padding\n",
        "\n",
        "    padded_img = padding_f(image, p)\n",
        "\n",
        "    W_f = (W + 2 * p[0] - w) // s[0] + 1\n",
        "    H_f = (H + 2 * p[1] - h) // s[1] + 1\n",
        "\n",
        "    feature_map = np.zeros((W_f, H_f))\n",
        "\n",
        "    for c in range(C):\n",
        "      for i in range(W_f):\n",
        "          for j in range(H_f):\n",
        "            feature_map[i, j] += np.sum(np.multiply(kernel[:, :, c], padded_img[i * s[0]:i * s[0] + w, j * s[1]:j * s[1] + h, c]))\n",
        "\n",
        "    function = Activation(act_f)\n",
        "    feature_map = function.activation_f(feature_map)\n",
        "\n",
        "    return feature_map\n"
      ],
      "metadata": {
        "id": "ZrRf_NOqYpd9"
      },
      "execution_count": 211,
      "outputs": []
    },
    {
      "cell_type": "code",
      "source": [
        "img = Image.open('logo.png')\n",
        "img = img.convert('RGB')\n",
        "img.save('photo.png')"
      ],
      "metadata": {
        "id": "CKkwhw92cIR2"
      },
      "execution_count": 208,
      "outputs": []
    },
    {
      "cell_type": "code",
      "source": [
        "image = mpimg.imread('photo.png')\n",
        "plt.imshow(image)\n",
        "image.shape"
      ],
      "metadata": {
        "colab": {
          "base_uri": "https://localhost:8080/",
          "height": 447
        },
        "id": "QweVc-zeconu",
        "outputId": "3c33bfe1-4e17-4fbc-c030-8dd3a90cbfdf"
      },
      "execution_count": 209,
      "outputs": [
        {
          "output_type": "execute_result",
          "data": {
            "text/plain": [
              "(32, 32, 3)"
            ]
          },
          "metadata": {},
          "execution_count": 209
        },
        {
          "output_type": "display_data",
          "data": {
            "text/plain": [
              "<Figure size 640x480 with 1 Axes>"
            ],
            "image/png": "[encoded data removed]"
          },
          "metadata": {}
        }
      ]
    },
    {
      "cell_type": "code",
      "source": [
        "kernel = np.random.rand(3, 3, 3)\n",
        "print(kernel)\n",
        "plt.imshow(kernel)"
      ],
      "metadata": {
        "id": "GZZbfsNreGOL",
        "colab": {
          "base_uri": "https://localhost:8080/",
          "height": 639
        },
        "outputId": "fef8786e-64b6-48f4-a1ef-910cd1b8d0d8"
      },
      "execution_count": 191,
      "outputs": [
        {
          "output_type": "stream",
          "name": "stdout",
          "text": [
            "[[[0.42457762 0.75712937 0.02868103]\n",
            "  [0.76421989 0.59193509 0.35031952]\n",
            "  [0.79098218 0.71879739 0.79591515]]\n",
            "\n",
            " [[0.13016672 0.36444966 0.9339794 ]\n",
            "  [0.77991429 0.75218532 0.99019654]\n",
            "  [0.89120093 0.69980263 0.69970748]]\n",
            "\n",
            " [[0.33353326 0.15512605 0.57270385]\n",
            "  [0.00266644 0.15478651 0.50471174]\n",
            "  [0.41442565 0.82817888 0.44757121]]]\n"
          ]
        },
        {
          "output_type": "execute_result",
          "data": {
            "text/plain": [
              "<matplotlib.image.AxesImage at 0x7e9b16b2e260>"
            ]
          },
          "metadata": {},
          "execution_count": 191
        },
        {
          "output_type": "display_data",
          "data": {
            "text/plain": [
              "<Figure size 640x480 with 1 Axes>"
            ],
            "image/png": "[encoded data removed]"
          },
          "metadata": {}
        }
      ]
    },
    {
      "cell_type": "code",
      "source": [
        "conv_img = convolution(image, kernel, act_f='sigmoid', stride=(1, 1), padding=(1, 1) )\n",
        "plt.imshow(conv_img)\n",
        "print(conv_img.shape)"
      ],
      "metadata": {
        "colab": {
          "base_uri": "https://localhost:8080/",
          "height": 447
        },
        "id": "dZYAcQ6UWhni",
        "outputId": "0bc2e838-ddfe-4856-f7b8-edd58b4c6de5"
      },
      "execution_count": 212,
      "outputs": [
        {
          "output_type": "stream",
          "name": "stdout",
          "text": [
            "(32, 32)\n"
          ]
        },
        {
          "output_type": "display_data",
          "data": {
            "text/plain": [
              "<Figure size 640x480 with 1 Axes>"
            ],
            "image/png": "[encoded data removed]"
          },
          "metadata": {}
        }
      ]
    },
    {
      "cell_type": "code",
      "source": [
        "def pooling(output, pool_size, pooling_function, stride):\n",
        "\n",
        "  W, H  = output.shape\n",
        "\n",
        "  w = pool_size[0]\n",
        "  h = pool_size[1]\n",
        "\n",
        "  s = stride\n",
        "\n",
        "  W_f = np.ceil((W - w + 1)/s[0]).astype(int)\n",
        "  H_f = np.ceil((H - h + 1)/s[1]).astype(int)\n",
        "\n",
        "  pooled = np.zeros((W_f, H_f))\n",
        "\n",
        "\n",
        "  for i in range(W_f):\n",
        "    for j in range(H_f):\n",
        "\n",
        "      if (pooling_function.lower() == 'max'):\n",
        "        pooled[i, j] = np.max(output[i*s[0]:i*s[0]+w, j*s[1]:j*s[1]+h])\n",
        "\n",
        "      if (pooling_function.lower() == 'avg'):\n",
        "        pooled[i, j] = np.mean(output[i*s[0]:i*s[0]+w, j*s[1]:j*s[1]+h])\n",
        "\n",
        "      if (pooling_function.lower() == 'min'):\n",
        "        pooled[i, j] = np.min(output[i*s[0]:i*s[0]+w, j*s[1]:j*s[1]+h])\n",
        "\n",
        "  return pooled\n"
      ],
      "metadata": {
        "id": "RpXzQa3-Pu-r"
      },
      "execution_count": 216,
      "outputs": []
    },
    {
      "cell_type": "code",
      "source": [
        "plt.imshow(conv_img)\n",
        "plt.title(\"Before pooling\")\n",
        "print(conv_img.shape)"
      ],
      "metadata": {
        "colab": {
          "base_uri": "https://localhost:8080/",
          "height": 469
        },
        "id": "VJ76kjpPYwE0",
        "outputId": "ac88ad82-e88e-4529-a7ba-10b92692fbd4"
      },
      "execution_count": 214,
      "outputs": [
        {
          "output_type": "stream",
          "name": "stdout",
          "text": [
            "(32, 32)\n"
          ]
        },
        {
          "output_type": "display_data",
          "data": {
            "text/plain": [
              "<Figure size 640x480 with 1 Axes>"
            ],
            "image/png": "[encoded data removed]"
          },
          "metadata": {}
        }
      ]
    },
    {
      "cell_type": "code",
      "source": [
        "pooled_output = pooling(conv_img, (3, 3), 'max', (2, 2))\n",
        "plt.imshow(pooled_output)\n",
        "plt.title(\"After pooling\")\n",
        "print(pooled_output.shape)"
      ],
      "metadata": {
        "colab": {
          "base_uri": "https://localhost:8080/",
          "height": 469
        },
        "id": "KQnQt3bZZLyA",
        "outputId": "d854cd1b-1f43-47df-a5af-1b93051d8c43"
      },
      "execution_count": 217,
      "outputs": [
        {
          "output_type": "stream",
          "name": "stdout",
          "text": [
            "(15, 15)\n"
          ]
        },
        {
          "output_type": "display_data",
          "data": {
            "text/plain": [
              "<Figure size 640x480 with 1 Axes>"
            ],
            "image/png": "[encoded data removed]"
          },
          "metadata": {}
        }
      ]
    },
    {
      "cell_type": "code",
      "source": [
        "def convolution_layer(image, num_kernels, kernel_shape, stride=(1, 1), padding =(0, 0), act_f = 'sigmoid'):\n",
        "  if(image.ndim == 2):\n",
        "    image = np.array(image)\n",
        "    image = image.reshape((image.shape[0], image.shape[1], 1))\n",
        "\n",
        "  output= []\n",
        "\n",
        "  for i in range(num_kernels):\n",
        "    kernel = np.random.random(kernel_shape)\n",
        "    output.append(convolution(image, kernel, act_f, stride, padding))\n",
        "\n",
        "  output = np.array(output)\n",
        "\n",
        "  return output.transpose(1, 2, 0)"
      ],
      "metadata": {
        "id": "qr84gxXBaGML"
      },
      "execution_count": 245,
      "outputs": []
    },
    {
      "cell_type": "code",
      "source": [
        "input = mpimg.imread('photo.png')\n",
        "plt.imshow(input)\n",
        "plt.title('Input activation volume')\n",
        "input.shape"
      ],
      "metadata": {
        "colab": {
          "base_uri": "https://localhost:8080/",
          "height": 469
        },
        "id": "xYk_EbxQMhy7",
        "outputId": "bb437edd-eb25-4210-e0b4-ef74c40316f0"
      },
      "execution_count": 250,
      "outputs": [
        {
          "output_type": "execute_result",
          "data": {
            "text/plain": [
              "(32, 32, 3)"
            ]
          },
          "metadata": {},
          "execution_count": 250
        },
        {
          "output_type": "display_data",
          "data": {
            "text/plain": [
              "<Figure size 640x480 with 1 Axes>"
            ],
            "image/png": "[encoded data removed]"
          },
          "metadata": {}
        }
      ]
    },
    {
      "cell_type": "code",
      "source": [
        "image = input\n",
        "num_kernels = 10\n",
        "kernel_shape = (3, 3, 3)\n",
        "stride = (2,2)\n",
        "padding = (0,0)\n",
        "act_f = 'sigmoid'\n",
        "conv_output = convolution_layer(image, num_kernels, kernel_shape, stride, padding, act_f)"
      ],
      "metadata": {
        "id": "hddQyMJQg6nq"
      },
      "execution_count": 255,
      "outputs": []
    },
    {
      "cell_type": "code",
      "source": [
        "print(\"The output has a shape of {} \".format(conv_output.shape))"
      ],
      "metadata": {
        "colab": {
          "base_uri": "https://localhost:8080/"
        },
        "id": "HgPQQMeOhM-4",
        "outputId": "31b743a8-2e3b-4b2f-f285-7fa3732294a7"
      },
      "execution_count": 256,
      "outputs": [
        {
          "output_type": "stream",
          "name": "stdout",
          "text": [
            "The output has a shape of (15, 15, 10) \n"
          ]
        }
      ]
    },
    {
      "cell_type": "markdown",
      "source": [
        "(W-w+1)/stride = (32-3+1)/2 = 15\n",
        "\n",
        "(H-h+1)/stride = (32-3+1)/2 =15\n",
        "\n",
        "which matches with the height and width of the image"
      ],
      "metadata": {
        "id": "pyNyWRgoifWE"
      }
    },
    {
      "cell_type": "code",
      "source": [
        "plt.title('Output Activation volume')\n",
        "for i in range(num_kernels):\n",
        "  plt.imshow(conv_output[:, :, i])"
      ],
      "metadata": {
        "colab": {
          "base_uri": "https://localhost:8080/",
          "height": 452
        },
        "id": "w0SxKKLQjHe2",
        "outputId": "89af0162-6a1e-4d9f-cde2-921aad166850"
      },
      "execution_count": 257,
      "outputs": [
        {
          "output_type": "display_data",
          "data": {
            "text/plain": [
              "<Figure size 640x480 with 1 Axes>"
            ],
            "image/png": "[encoded data removed]"
          },
          "metadata": {}
        }
      ]
    },
    {
      "cell_type": "code",
      "source": [
        "def pooling_layer(input, pool_size, pooling_function, stride):\n",
        "\n",
        "  output = []\n",
        "  for i in range(input.shape[2]):\n",
        "    output.append(pooling(input[:, :, i], pool_size, pooling_function, stride))\n",
        "\n",
        "  output = np.array(output)\n",
        "  return output.transpose(1, 2, 0)\n"
      ],
      "metadata": {
        "id": "yRBgBjEbSffQ"
      },
      "execution_count": 265,
      "outputs": []
    },
    {
      "cell_type": "code",
      "source": [
        "n = conv_output.shape[2]\n",
        "plt.title('Input activation map volume')\n",
        "for i in range(n):\n",
        "  plt.imshow(conv_output[:, :, i])"
      ],
      "metadata": {
        "colab": {
          "base_uri": "https://localhost:8080/",
          "height": 452
        },
        "id": "Fu6sb4Y1Xjpa",
        "outputId": "9f63368a-29e6-47e0-d109-d3175cdc422f"
      },
      "execution_count": 267,
      "outputs": [
        {
          "output_type": "display_data",
          "data": {
            "text/plain": [
              "<Figure size 640x480 with 1 Axes>"
            ],
            "image/png": "[encoded data removed]"
          },
          "metadata": {}
        }
      ]
    },
    {
      "cell_type": "code",
      "source": [
        "output = pooling_layer(conv_output, (2, 2), 'max', (1,1))"
      ],
      "metadata": {
        "id": "r-m68ZPUYsJ2"
      },
      "execution_count": 266,
      "outputs": []
    },
    {
      "cell_type": "code",
      "source": [
        "plt.title('Ouput activation map volume after pooling')\n",
        "for i in range(n):\n",
        "  plt.imshow(output[:, :, i])"
      ],
      "metadata": {
        "colab": {
          "base_uri": "https://localhost:8080/",
          "height": 452
        },
        "id": "pf8lWV6YYcJm",
        "outputId": "80c122cf-b37d-4874-ab85-6a6bbc80bc8b"
      },
      "execution_count": 268,
      "outputs": [
        {
          "output_type": "display_data",
          "data": {
            "text/plain": [
              "<Figure size 640x480 with 1 Axes>"
            ],
            "image/png": "[encoded data removed]"
          },
          "metadata": {}
        }
      ]
    },
    {
      "cell_type": "code",
      "source": [
        "def flattening(input, output_size):\n",
        "    vec = np.ravel(input)\n",
        "    w_matrix = np.random.random((output_size , len(vec)))\n",
        "    output = w_matrix @ vec\n",
        "    return output"
      ],
      "metadata": {
        "id": "j2qLTbxHXURS"
      },
      "execution_count": 269,
      "outputs": []
    },
    {
      "cell_type": "code",
      "source": [
        "def MLP(input, num_hidden, hidden_size, act_f, output_size):\n",
        "\n",
        "  x = np.hstack((1, input))\n",
        "\n",
        "  for i in range(num_hidden):\n",
        "    w = np.random.rand(len(x), hidden_size[i])\n",
        "    z = x @ w\n",
        "\n",
        "    function = Activation(act_f)\n",
        "    x = function.activation_f(z)\n",
        "\n",
        "    x = np.hstack((1, x))\n",
        "\n",
        "  w = np.random.rand(len(x), output_size)\n",
        "  output_without_softmax = x @ w\n",
        "  output_with_softmax = np.exp(output_without_softmax) / np.sum(np.exp(output_without_softmax))\n",
        "\n",
        "  return output_without_softmax, output_with_softmax\n"
      ],
      "metadata": {
        "id": "Womzjya8kSfU"
      },
      "execution_count": 270,
      "outputs": []
    },
    {
      "cell_type": "code",
      "source": [
        "def feed_forward(input):\n",
        "\n",
        "  output1 = convolution_layer(input, 16, (3, 3,3), act_f = 'sigmoid')\n",
        "  output2 = pooling_layer(output1, (2,2), 'max', (2,2))\n",
        "  output3 = convolution_layer(output2, 8, (3, 3, 16), act_f = 'sigmoid') #C2 = 16\n",
        "  output4 = pooling_layer(output3, (2,2), 'max', (2,2))\n",
        "  output5 = flattening(output4, 32)\n",
        "  output, output_softmax = MLP(output5, 1, [64], 'sigmoid', 10)\n",
        "\n",
        "  print(\"The final output is: {}\".format(output))\n",
        "  print(\"The final output with probabilities is: {}\".format(output_softmax))\n",
        "\n",
        "  return output1.shape, output2.shape, output3.shape, output4.shape, output5.shape\n",
        "\n"
      ],
      "metadata": {
        "id": "AuIQTtzX3KBx"
      },
      "execution_count": 273,
      "outputs": []
    },
    {
      "cell_type": "code",
      "source": [
        "input = mpimg.imread('photo.png')\n",
        "feed_forward(input)"
      ],
      "metadata": {
        "colab": {
          "base_uri": "https://localhost:8080/"
        },
        "id": "T7d-tIIM_khq",
        "outputId": "f97740db-3ddc-4086-95f1-58b84076847a"
      },
      "execution_count": 274,
      "outputs": [
        {
          "output_type": "stream",
          "name": "stdout",
          "text": [
            "(30, 30, 16) (15, 15, 16) (13, 13, 8) (6, 6, 8) (32,)\n",
            "The final output is: [34.69175893 34.39757643 29.20422852 32.04925251 31.73430968 31.55439446\n",
            " 36.09718542 34.28580132 33.87440744 30.17966442]\n",
            "The final output with probabilities is: [0.14060766 0.10477246 0.00058184 0.01000882 0.00730475 0.00610195\n",
            " 0.57329471 0.09369228 0.0620923  0.00154323]\n"
          ]
        }
      ]
    },
    {
      "cell_type": "code",
      "source": [
        "import torch\n",
        "import torchvision\n",
        "import torchvision.transforms as transforms\n",
        "\n",
        "transform = transforms.Compose([transforms.ToTensor()])\n",
        "batch_size = 1\n",
        "\n",
        "dataset = torchvision.datasets.CIFAR10(root='./data', download=True, transform=transform)\n",
        "dataloader = torch.utils.data.DataLoader(dataset, batch_size=batch_size, shuffle=False)\n",
        "datalist = list(dataloader)"
      ],
      "metadata": {
        "colab": {
          "base_uri": "https://localhost:8080/"
        },
        "id": "YDLGF87qBi34",
        "outputId": "16cdcdc1-f306-46ab-f8cf-8da90f357f6f"
      },
      "execution_count": 275,
      "outputs": [
        {
          "output_type": "stream",
          "name": "stdout",
          "text": [
            "Downloading https://www.cs.toronto.edu/~kriz/cifar-10-python.tar.gz to ./data/cifar-10-python.tar.gz\n"
          ]
        },
        {
          "output_type": "stream",
          "name": "stderr",
          "text": [
            "100%|██████████| 170498071/170498071 [00:01<00:00, 105320549.90it/s]\n"
          ]
        },
        {
          "output_type": "stream",
          "name": "stdout",
          "text": [
            "Extracting ./data/cifar-10-python.tar.gz to ./data\n"
          ]
        }
      ]
    },
    {
      "cell_type": "code",
      "source": [
        "def unpickle(file):\n",
        "    import pickle\n",
        "    with open(file, 'rb') as fo:\n",
        "        dict = pickle.load(fo, encoding='bytes')\n",
        "    return dict"
      ],
      "metadata": {
        "id": "VsBwgEddeSdf"
      },
      "execution_count": 276,
      "outputs": []
    },
    {
      "cell_type": "code",
      "source": [
        "cifar_data = unpickle('data_batch_1')\n",
        "data = cifar_data[b'data']\n",
        "labels = cifar_data[b'labels']"
      ],
      "metadata": {
        "id": "mGVF4mtPf8t3"
      },
      "execution_count": null,
      "outputs": []
    },
    {
      "cell_type": "code",
      "source": [
        "class_images = {}\n",
        "\n",
        "for i in range(10):\n",
        "    class_index = np.where(np.array(labels) == i)[0][0]\n",
        "    image = data[class_index].reshape(3, 32, 32).transpose(1, 2, 0)\n",
        "    class_images[i] = image"
      ],
      "metadata": {
        "id": "MWa3efdTgDPp"
      },
      "execution_count": null,
      "outputs": []
    },
    {
      "cell_type": "code",
      "source": [
        "for i in range(len(class_images)):\n",
        "  feed_forward(class_images[i])"
      ],
      "metadata": {
        "id": "63mzZSJWgbzY"
      },
      "execution_count": null,
      "outputs": []
    },
    {
      "cell_type": "markdown",
      "source": [
        "All the output vectors are approximatley the same irrespective of class of the image. This maybe because of the randomly initialised weights"
      ],
      "metadata": {
        "id": "f-R6B6fkg3dE"
      }
    },
    {
      "cell_type": "code",
      "source": [
        "def bottleneck(input):\n",
        "  output1 = convolution_layer(input, 16, (3, 3,3), act_f = 'sigmoid')\n",
        "  output2 = pooling_layer(output1, (2,2), 'max', (2,2))\n",
        "  output3 = convolution_layer(output2, 8, (3, 3, 16), act_f = 'sigmoid') #C2 = 16\n",
        "  output4 = pooling_layer(output3, (2,2), 'max', (2,2))\n",
        "  output5 = flattening(output4, 32)\n",
        "  return output5\n"
      ],
      "metadata": {
        "id": "DmoHB4GhheX_"
      },
      "execution_count": 279,
      "outputs": []
    },
    {
      "cell_type": "code",
      "source": [
        "class_images = {}\n",
        "images_per_class = 3\n",
        "\n",
        "for i in range(10):\n",
        "    class_indices = np.where(np.array(labels) == i)[0][:images_per_class]\n",
        "    class_images[i] = data[class_indices].reshape(-1, 3, 32, 32).transpose(0, 2, 3, 1)"
      ],
      "metadata": {
        "id": "eYfFsKvvilD8"
      },
      "execution_count": null,
      "outputs": []
    },
    {
      "cell_type": "code",
      "source": [
        "from sklearn.manifold import TSNE\n",
        "import pandas as pd"
      ],
      "metadata": {
        "id": "sdxBVaxhiA4z"
      },
      "execution_count": null,
      "outputs": []
    },
    {
      "cell_type": "code",
      "source": [
        "X = np.zeros((30,32))\n",
        "k = 0\n",
        "for i in range(10):\n",
        "  class_i = class_images[i]\n",
        "  for j in range(3):\n",
        "    image = class_i[j]\n",
        "    X[k] = bottleneck(image)\n",
        "    k = k+1\n"
      ],
      "metadata": {
        "id": "PFR5PeIckM3U"
      },
      "execution_count": null,
      "outputs": []
    },
    {
      "cell_type": "code",
      "source": [
        "Y = np.zeros(30)\n",
        "for k in range (30):\n",
        "  for i in range(10):\n",
        "    Y[k:k+3] = i\n",
        "    k=k+3"
      ],
      "metadata": {
        "id": "QCsf5VIckwm-"
      },
      "execution_count": null,
      "outputs": []
    },
    {
      "cell_type": "code",
      "source": [
        "tsne = TSNE(n_components=2, random_state=0)\n",
        "X_tsne = tsne.fit_transform(X)\n",
        "\n",
        "plt.figure(figsize=(10, 8))\n",
        "plt.scatter(X_tsne[:, 0], X_tsne[:, 1], c=Y, cmap='viridis')\n",
        "plt.title('t-SNE Visualization')\n",
        "plt.xlabel(\"Dimension 1\")\n",
        "plt.ylabel(\"Dimension 2\")\n",
        "plt.show()\n"
      ],
      "metadata": {
        "id": "AChemYu5mYpt"
      },
      "execution_count": null,
      "outputs": []
    },
    {
      "cell_type": "markdown",
      "source": [
        "We can see in the plot that the points are arbitrarily scattared irrespective of the class.Randomly initialized network doesn't distinguish the images of different classes well because of randomisation. Hence, it is non-discriminable."
      ],
      "metadata": {
        "id": "z8Ep6S8MpHNW"
      }
    }
  ]
}